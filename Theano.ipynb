{
  "nbformat": 4,
  "nbformat_minor": 0,
  "metadata": {
    "colab": {
      "name": "Theano.ipynb",
      "provenance": [],
      "collapsed_sections": [],
      "authorship_tag": "ABX9TyN4nkJhOFpUYsILs0ZWBb09",
      "include_colab_link": true
    },
    "kernelspec": {
      "name": "python3",
      "display_name": "Python 3"
    }
  },
  "cells": [
    {
      "cell_type": "markdown",
      "metadata": {
        "id": "view-in-github",
        "colab_type": "text"
      },
      "source": [
        "<a href=\"https://colab.research.google.com/github/reddyprasade/Theano-Practices/blob/master/Theano.ipynb\" target=\"_parent\"><img src=\"https://colab.research.google.com/assets/colab-badge.svg\" alt=\"Open In Colab\"/></a>"
      ]
    },
    {
      "cell_type": "code",
      "metadata": {
        "id": "sZZIZtKz32Dz",
        "colab_type": "code",
        "outputId": "f780ef52-4af8-44c2-efc7-6c21f07dad97",
        "colab": {
          "base_uri": "https://localhost:8080/",
          "height": 84
        }
      },
      "source": [
        "!pip install Theano"
      ],
      "execution_count": 0,
      "outputs": [
        {
          "output_type": "stream",
          "text": [
            "Requirement already satisfied: Theano in /usr/local/lib/python3.6/dist-packages (1.0.4)\n",
            "Requirement already satisfied: six>=1.9.0 in /usr/local/lib/python3.6/dist-packages (from Theano) (1.12.0)\n",
            "Requirement already satisfied: numpy>=1.9.1 in /usr/local/lib/python3.6/dist-packages (from Theano) (1.17.5)\n",
            "Requirement already satisfied: scipy>=0.14 in /usr/local/lib/python3.6/dist-packages (from Theano) (1.4.1)\n"
          ],
          "name": "stdout"
        }
      ]
    },
    {
      "cell_type": "code",
      "metadata": {
        "id": "n2Dvq_jQ4AVx",
        "colab_type": "code",
        "colab": {}
      },
      "source": [
        "from theano import *\n",
        "import theano"
      ],
      "execution_count": 0,
      "outputs": []
    },
    {
      "cell_type": "code",
      "metadata": {
        "id": "zO7qECIc4GwY",
        "colab_type": "code",
        "colab": {}
      },
      "source": [
        "import theano.tensor as T"
      ],
      "execution_count": 0,
      "outputs": []
    },
    {
      "cell_type": "code",
      "metadata": {
        "id": "6MGcSskF4IsP",
        "colab_type": "code",
        "outputId": "23daed2b-7f41-488e-920b-c81fa811541e",
        "colab": {
          "base_uri": "https://localhost:8080/",
          "height": 34
        }
      },
      "source": [
        "x = T.dscalar('x')\n",
        "x"
      ],
      "execution_count": 0,
      "outputs": [
        {
          "output_type": "execute_result",
          "data": {
            "text/plain": [
              "x"
            ]
          },
          "metadata": {
            "tags": []
          },
          "execution_count": 4
        }
      ]
    },
    {
      "cell_type": "code",
      "metadata": {
        "id": "6fkbcsUo7NT6",
        "colab_type": "code",
        "outputId": "b0deb755-d505-4435-ac11-7ca22698e2f4",
        "colab": {
          "base_uri": "https://localhost:8080/",
          "height": 34
        }
      },
      "source": [
        "y = T.dscalar('y')\n",
        "y"
      ],
      "execution_count": 0,
      "outputs": [
        {
          "output_type": "execute_result",
          "data": {
            "text/plain": [
              "y"
            ]
          },
          "metadata": {
            "tags": []
          },
          "execution_count": 5
        }
      ]
    },
    {
      "cell_type": "code",
      "metadata": {
        "id": "18eNjN4h7RdR",
        "colab_type": "code",
        "colab": {}
      },
      "source": [
        "z = x + y"
      ],
      "execution_count": 0,
      "outputs": []
    },
    {
      "cell_type": "code",
      "metadata": {
        "id": "FxSqc67o7UVl",
        "colab_type": "code",
        "outputId": "88aa627e-a85a-4f67-c19d-31ba36e47dee",
        "colab": {
          "base_uri": "https://localhost:8080/",
          "height": 34
        }
      },
      "source": [
        "z"
      ],
      "execution_count": 0,
      "outputs": [
        {
          "output_type": "execute_result",
          "data": {
            "text/plain": [
              "Elemwise{add,no_inplace}.0"
            ]
          },
          "metadata": {
            "tags": []
          },
          "execution_count": 7
        }
      ]
    },
    {
      "cell_type": "code",
      "metadata": {
        "id": "wIwhTkLZ7UuH",
        "colab_type": "code",
        "outputId": "2cd6f0fe-ea32-40b6-9648-0a7ad653e04c",
        "colab": {
          "base_uri": "https://localhost:8080/",
          "height": 34
        }
      },
      "source": [
        "f = function([x, y], z)\n",
        "f"
      ],
      "execution_count": 0,
      "outputs": [
        {
          "output_type": "execute_result",
          "data": {
            "text/plain": [
              "<theano.compile.function_module.Function at 0x7f114901c6a0>"
            ]
          },
          "metadata": {
            "tags": []
          },
          "execution_count": 8
        }
      ]
    },
    {
      "cell_type": "code",
      "metadata": {
        "id": "8r6H7LWH7ckF",
        "colab_type": "code",
        "outputId": "bad7094e-fad5-407d-f5ec-0d5457221d52",
        "colab": {
          "base_uri": "https://localhost:8080/",
          "height": 34
        }
      },
      "source": [
        "f(2,3)"
      ],
      "execution_count": 0,
      "outputs": [
        {
          "output_type": "execute_result",
          "data": {
            "text/plain": [
              "array(5.)"
            ]
          },
          "metadata": {
            "tags": []
          },
          "execution_count": 9
        }
      ]
    },
    {
      "cell_type": "code",
      "metadata": {
        "id": "SBeZ1rWE7fRK",
        "colab_type": "code",
        "outputId": "d45bdd49-c1a9-4853-e44f-137b23d8a1cc",
        "colab": {
          "base_uri": "https://localhost:8080/",
          "height": 34
        }
      },
      "source": [
        "import numpy as np\n",
        "np.allclose(f(16.3, 12.1), 28.4)"
      ],
      "execution_count": 0,
      "outputs": [
        {
          "output_type": "execute_result",
          "data": {
            "text/plain": [
              "True"
            ]
          },
          "metadata": {
            "tags": []
          },
          "execution_count": 11
        }
      ]
    },
    {
      "cell_type": "code",
      "metadata": {
        "id": "zyNeeQHC7jkP",
        "colab_type": "code",
        "outputId": "06b96d20-9956-469f-f6e3-885dcba5162c",
        "colab": {
          "base_uri": "https://localhost:8080/",
          "height": 34
        }
      },
      "source": [
        "type(x)"
      ],
      "execution_count": 0,
      "outputs": [
        {
          "output_type": "execute_result",
          "data": {
            "text/plain": [
              "theano.tensor.var.TensorVariable"
            ]
          },
          "metadata": {
            "tags": []
          },
          "execution_count": 12
        }
      ]
    },
    {
      "cell_type": "code",
      "metadata": {
        "id": "Mt4qNuRf7qzf",
        "colab_type": "code",
        "outputId": "9e8a21e0-e351-4b4f-d596-3ee3a7e7a64b",
        "colab": {
          "base_uri": "https://localhost:8080/",
          "height": 34
        }
      },
      "source": [
        "type(y)"
      ],
      "execution_count": 0,
      "outputs": [
        {
          "output_type": "execute_result",
          "data": {
            "text/plain": [
              "theano.tensor.var.TensorVariable"
            ]
          },
          "metadata": {
            "tags": []
          },
          "execution_count": 13
        }
      ]
    },
    {
      "cell_type": "code",
      "metadata": {
        "id": "O-KO5mUF7sP9",
        "colab_type": "code",
        "colab": {}
      },
      "source": [
        "x = T.dmatrix('x')\n",
        "y = T.dmatrix('x')"
      ],
      "execution_count": 0,
      "outputs": []
    },
    {
      "cell_type": "code",
      "metadata": {
        "id": "K1_TF2_576IF",
        "colab_type": "code",
        "outputId": "89a10f4f-0818-45e3-f046-b7e406aa119f",
        "colab": {
          "base_uri": "https://localhost:8080/",
          "height": 34
        }
      },
      "source": [
        "type(x)"
      ],
      "execution_count": 0,
      "outputs": [
        {
          "output_type": "execute_result",
          "data": {
            "text/plain": [
              "theano.tensor.var.TensorVariable"
            ]
          },
          "metadata": {
            "tags": []
          },
          "execution_count": 15
        }
      ]
    },
    {
      "cell_type": "code",
      "metadata": {
        "id": "Dbor2Va777HC",
        "colab_type": "code",
        "outputId": "80180ddf-4da4-46cb-a2d5-41c3712854e3",
        "colab": {
          "base_uri": "https://localhost:8080/",
          "height": 34
        }
      },
      "source": [
        "type(y)"
      ],
      "execution_count": 0,
      "outputs": [
        {
          "output_type": "execute_result",
          "data": {
            "text/plain": [
              "theano.tensor.var.TensorVariable"
            ]
          },
          "metadata": {
            "tags": []
          },
          "execution_count": 16
        }
      ]
    },
    {
      "cell_type": "code",
      "metadata": {
        "id": "GyPEhY5O78Q-",
        "colab_type": "code",
        "colab": {}
      },
      "source": [
        "Z = x+y"
      ],
      "execution_count": 0,
      "outputs": []
    },
    {
      "cell_type": "code",
      "metadata": {
        "id": "y9oJzw8k7_xF",
        "colab_type": "code",
        "outputId": "8f1a04e1-f4e2-4f88-fa16-52d3fca347d9",
        "colab": {
          "base_uri": "https://localhost:8080/",
          "height": 34
        }
      },
      "source": [
        "x = T.dmatrix('x')\n",
        "y = T.dmatrix('y')\n",
        "z= x+y\n",
        "f = function([x, y], z)\n",
        "f"
      ],
      "execution_count": 0,
      "outputs": [
        {
          "output_type": "execute_result",
          "data": {
            "text/plain": [
              "<theano.compile.function_module.Function at 0x7f1148967d68>"
            ]
          },
          "metadata": {
            "tags": []
          },
          "execution_count": 24
        }
      ]
    },
    {
      "cell_type": "code",
      "metadata": {
        "id": "_aer8pj28U5o",
        "colab_type": "code",
        "outputId": "0930f6c0-3eeb-4519-f285-b955e3334a3d",
        "colab": {
          "base_uri": "https://localhost:8080/",
          "height": 50
        }
      },
      "source": [
        "f([[1, 2], [3, 4]], [[10, 20], [30, 40]])"
      ],
      "execution_count": 0,
      "outputs": [
        {
          "output_type": "execute_result",
          "data": {
            "text/plain": [
              "array([[11., 22.],\n",
              "       [33., 44.]])"
            ]
          },
          "metadata": {
            "tags": []
          },
          "execution_count": 25
        }
      ]
    },
    {
      "cell_type": "code",
      "metadata": {
        "id": "4tHHpWya8hH8",
        "colab_type": "code",
        "outputId": "d8f1b11d-895a-46db-f520-dff43b6b18e4",
        "colab": {
          "base_uri": "https://localhost:8080/",
          "height": 34
        }
      },
      "source": [
        "import theano \n",
        "# declare symbolic variable \n",
        "a = theano . tensor . vector (\"a\") \n",
        "# build symbolic expression \n",
        "b = a + a**10 \n",
        "# compile function \n",
        "f = theano . function ([ a ] , b) \n",
        "print(f ([0 , 1 , 2]) )\n",
        "# prints ` array ([0 , 2 , 1026]) `\n"
      ],
      "execution_count": 0,
      "outputs": [
        {
          "output_type": "stream",
          "text": [
            "[   0.    2. 1026.]\n"
          ],
          "name": "stdout"
        }
      ]
    },
    {
      "cell_type": "code",
      "metadata": {
        "id": "oaDe10Qh_RZh",
        "colab_type": "code",
        "outputId": "4ba6a77b-1d59-431b-d8af-ce21aedeecc3",
        "colab": {
          "base_uri": "https://localhost:8080/",
          "height": 34
        }
      },
      "source": [
        "theano.printing.pydotprint(f, outfile=\"scalar_addition.png\", var_with_name_simple=True)"
      ],
      "execution_count": 0,
      "outputs": [
        {
          "output_type": "stream",
          "text": [
            "The output file is available at scalar_addition.png\n"
          ],
          "name": "stdout"
        }
      ]
    },
    {
      "cell_type": "code",
      "metadata": {
        "id": "Am9MeY3M_f4s",
        "colab_type": "code",
        "outputId": "83f931eb-20c3-4b2a-adf0-c55a2dc61ccc",
        "colab": {
          "base_uri": "https://localhost:8080/",
          "height": 34
        }
      },
      "source": [
        "from theano import *\n",
        "a = tensor.dmatrix()\n",
        "b = tensor.dmatrix()\n",
        "c = tensor.dot(a,b)\n",
        "f = theano.function([a,b], c)\n",
        "theano.printing.pydotprint(f, outfile=\"matrix_dot_product.png\", var_with_name_simple=True)"
      ],
      "execution_count": 0,
      "outputs": [
        {
          "output_type": "stream",
          "text": [
            "The output file is available at matrix_dot_product.png\n"
          ],
          "name": "stdout"
        }
      ]
    },
    {
      "cell_type": "code",
      "metadata": {
        "id": "EUoQuqVh_rYH",
        "colab_type": "code",
        "outputId": "d2110809-3111-4086-baf2-1e775c56d15f",
        "colab": {
          "base_uri": "https://localhost:8080/",
          "height": 554
        }
      },
      "source": [
        "\n",
        "x = tensor.fvector('x')\n",
        "target = tensor.fscalar('target')\n",
        "\n",
        "W = theano.shared(np.asarray([0.1, 0.25, 0.15, 0.3]), 'W')\n",
        "print (\"Weights: \", W.get_value())\n",
        "\n",
        "y = (x * W).sum()\n",
        "cost = tensor.sqr(target - y)\n",
        "gradients = tensor.grad(cost, [W])\n",
        "W_updated = W - (0.1 * gradients[0])\n",
        "updates = [(W, W_updated)]\n",
        "\n",
        "f = function([x, target], y, updates=updates)\n",
        "for i in range(10):\n",
        "   output = f([1.0, 1.0, 1.0, 1.0], 100.0)\n",
        "   print (\"iteration: \", i)\n",
        "   print (\"Modified Weights: \", W.get_value())\n",
        "   print (\"Output: \", output)\n",
        "\n",
        "theano.printing.pydotprint(f, outfile=\"Model.png\", var_with_name_simple=True)"
      ],
      "execution_count": 0,
      "outputs": [
        {
          "output_type": "stream",
          "text": [
            "Weights:  [0.1  0.25 0.15 0.3 ]\n",
            "iteration:  0\n",
            "Modified Weights:  [19.94 20.09 19.99 20.14]\n",
            "Output:  0.8\n",
            "iteration:  1\n",
            "Modified Weights:  [23.908 24.058 23.958 24.108]\n",
            "Output:  80.16000000000001\n",
            "iteration:  2\n",
            "Modified Weights:  [24.7016 24.8516 24.7516 24.9016]\n",
            "Output:  96.03200000000001\n",
            "iteration:  3\n",
            "Modified Weights:  [24.86032 25.01032 24.91032 25.06032]\n",
            "Output:  99.2064\n",
            "iteration:  4\n",
            "Modified Weights:  [24.892064 25.042064 24.942064 25.092064]\n",
            "Output:  99.84128\n",
            "iteration:  5\n",
            "Modified Weights:  [24.8984128 25.0484128 24.9484128 25.0984128]\n",
            "Output:  99.968256\n",
            "iteration:  6\n",
            "Modified Weights:  [24.89968256 25.04968256 24.94968256 25.09968256]\n",
            "Output:  99.9936512\n",
            "iteration:  7\n",
            "Modified Weights:  [24.89993651 25.04993651 24.94993651 25.09993651]\n",
            "Output:  99.99873024\n",
            "iteration:  8\n",
            "Modified Weights:  [24.8999873 25.0499873 24.9499873 25.0999873]\n",
            "Output:  99.99974604799999\n",
            "iteration:  9\n",
            "Modified Weights:  [24.89999746 25.04999746 24.94999746 25.09999746]\n",
            "Output:  99.99994920960002\n",
            "The output file is available at Model.png\n"
          ],
          "name": "stdout"
        }
      ]
    }
  ]
}